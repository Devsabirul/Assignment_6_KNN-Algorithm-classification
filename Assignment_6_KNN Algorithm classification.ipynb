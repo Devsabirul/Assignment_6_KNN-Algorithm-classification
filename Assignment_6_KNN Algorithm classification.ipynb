{
 "cells": [
  {
   "cell_type": "code",
   "execution_count": 1,
   "id": "1babf233",
   "metadata": {},
   "outputs": [],
   "source": [
    "import numpy as np\n",
    "import pandas as pd \n",
    "import matplotlib.pyplot as plt\n",
    "import seaborn as sns"
   ]
  },
  {
   "cell_type": "code",
   "execution_count": 2,
   "id": "e18c2db6",
   "metadata": {},
   "outputs": [],
   "source": [
    "df = pd.read_csv(r\"D:\\Programming\\ML_DATA\\\\weight-height.csv\")"
   ]
  },
  {
   "cell_type": "code",
   "execution_count": 3,
   "id": "65284f09",
   "metadata": {},
   "outputs": [
    {
     "name": "stdout",
     "output_type": "stream",
     "text": [
      "<class 'pandas.core.frame.DataFrame'>\n",
      "RangeIndex: 8555 entries, 0 to 8554\n",
      "Data columns (total 3 columns):\n",
      " #   Column  Non-Null Count  Dtype  \n",
      "---  ------  --------------  -----  \n",
      " 0   Gender  8555 non-null   object \n",
      " 1   Height  8555 non-null   float64\n",
      " 2   Weight  8555 non-null   float64\n",
      "dtypes: float64(2), object(1)\n",
      "memory usage: 200.6+ KB\n"
     ]
    }
   ],
   "source": [
    "df.info()"
   ]
  },
  {
   "cell_type": "code",
   "execution_count": 4,
   "id": "f3175138",
   "metadata": {
    "scrolled": true
   },
   "outputs": [
    {
     "data": {
      "text/html": [
       "<div>\n",
       "<style scoped>\n",
       "    .dataframe tbody tr th:only-of-type {\n",
       "        vertical-align: middle;\n",
       "    }\n",
       "\n",
       "    .dataframe tbody tr th {\n",
       "        vertical-align: top;\n",
       "    }\n",
       "\n",
       "    .dataframe thead th {\n",
       "        text-align: right;\n",
       "    }\n",
       "</style>\n",
       "<table border=\"1\" class=\"dataframe\">\n",
       "  <thead>\n",
       "    <tr style=\"text-align: right;\">\n",
       "      <th></th>\n",
       "      <th>Gender</th>\n",
       "      <th>Height</th>\n",
       "      <th>Weight</th>\n",
       "    </tr>\n",
       "  </thead>\n",
       "  <tbody>\n",
       "    <tr>\n",
       "      <th>0</th>\n",
       "      <td>Male</td>\n",
       "      <td>73.847017</td>\n",
       "      <td>241.893563</td>\n",
       "    </tr>\n",
       "    <tr>\n",
       "      <th>1</th>\n",
       "      <td>Male</td>\n",
       "      <td>68.781904</td>\n",
       "      <td>162.310473</td>\n",
       "    </tr>\n",
       "    <tr>\n",
       "      <th>2</th>\n",
       "      <td>Male</td>\n",
       "      <td>74.110105</td>\n",
       "      <td>212.740856</td>\n",
       "    </tr>\n",
       "    <tr>\n",
       "      <th>3</th>\n",
       "      <td>Male</td>\n",
       "      <td>71.730978</td>\n",
       "      <td>220.042470</td>\n",
       "    </tr>\n",
       "    <tr>\n",
       "      <th>4</th>\n",
       "      <td>Male</td>\n",
       "      <td>69.881796</td>\n",
       "      <td>206.349801</td>\n",
       "    </tr>\n",
       "  </tbody>\n",
       "</table>\n",
       "</div>"
      ],
      "text/plain": [
       "  Gender     Height      Weight\n",
       "0   Male  73.847017  241.893563\n",
       "1   Male  68.781904  162.310473\n",
       "2   Male  74.110105  212.740856\n",
       "3   Male  71.730978  220.042470\n",
       "4   Male  69.881796  206.349801"
      ]
     },
     "execution_count": 4,
     "metadata": {},
     "output_type": "execute_result"
    }
   ],
   "source": [
    "df.head()"
   ]
  },
  {
   "cell_type": "code",
   "execution_count": 5,
   "id": "3d578ce4",
   "metadata": {},
   "outputs": [
    {
     "data": {
      "text/plain": [
       "Gender    0\n",
       "Height    0\n",
       "Weight    0\n",
       "dtype: int64"
      ]
     },
     "execution_count": 5,
     "metadata": {},
     "output_type": "execute_result"
    }
   ],
   "source": [
    "df.isnull().sum() "
   ]
  },
  {
   "cell_type": "markdown",
   "id": "e5aaddde",
   "metadata": {},
   "source": [
    "# convert categorical data to numeric data"
   ]
  },
  {
   "cell_type": "code",
   "execution_count": 6,
   "id": "118e6bc9",
   "metadata": {},
   "outputs": [],
   "source": [
    "# label encoding\n",
    "from sklearn.preprocessing import LabelEncoder"
   ]
  },
  {
   "cell_type": "code",
   "execution_count": 7,
   "id": "3c8283ac",
   "metadata": {},
   "outputs": [],
   "source": [
    "le = LabelEncoder()"
   ]
  },
  {
   "cell_type": "code",
   "execution_count": 8,
   "id": "85a7f9bb",
   "metadata": {},
   "outputs": [],
   "source": [
    "df.Gender = le.fit_transform(df['Gender'])"
   ]
  },
  {
   "cell_type": "code",
   "execution_count": 9,
   "id": "cee58945",
   "metadata": {},
   "outputs": [
    {
     "data": {
      "text/html": [
       "<div>\n",
       "<style scoped>\n",
       "    .dataframe tbody tr th:only-of-type {\n",
       "        vertical-align: middle;\n",
       "    }\n",
       "\n",
       "    .dataframe tbody tr th {\n",
       "        vertical-align: top;\n",
       "    }\n",
       "\n",
       "    .dataframe thead th {\n",
       "        text-align: right;\n",
       "    }\n",
       "</style>\n",
       "<table border=\"1\" class=\"dataframe\">\n",
       "  <thead>\n",
       "    <tr style=\"text-align: right;\">\n",
       "      <th></th>\n",
       "      <th>Gender</th>\n",
       "      <th>Height</th>\n",
       "      <th>Weight</th>\n",
       "    </tr>\n",
       "  </thead>\n",
       "  <tbody>\n",
       "    <tr>\n",
       "      <th>0</th>\n",
       "      <td>1</td>\n",
       "      <td>73.847017</td>\n",
       "      <td>241.893563</td>\n",
       "    </tr>\n",
       "    <tr>\n",
       "      <th>1</th>\n",
       "      <td>1</td>\n",
       "      <td>68.781904</td>\n",
       "      <td>162.310473</td>\n",
       "    </tr>\n",
       "    <tr>\n",
       "      <th>2</th>\n",
       "      <td>1</td>\n",
       "      <td>74.110105</td>\n",
       "      <td>212.740856</td>\n",
       "    </tr>\n",
       "    <tr>\n",
       "      <th>3</th>\n",
       "      <td>1</td>\n",
       "      <td>71.730978</td>\n",
       "      <td>220.042470</td>\n",
       "    </tr>\n",
       "    <tr>\n",
       "      <th>4</th>\n",
       "      <td>1</td>\n",
       "      <td>69.881796</td>\n",
       "      <td>206.349801</td>\n",
       "    </tr>\n",
       "  </tbody>\n",
       "</table>\n",
       "</div>"
      ],
      "text/plain": [
       "   Gender     Height      Weight\n",
       "0       1  73.847017  241.893563\n",
       "1       1  68.781904  162.310473\n",
       "2       1  74.110105  212.740856\n",
       "3       1  71.730978  220.042470\n",
       "4       1  69.881796  206.349801"
      ]
     },
     "execution_count": 9,
     "metadata": {},
     "output_type": "execute_result"
    }
   ],
   "source": [
    "df.head()"
   ]
  },
  {
   "cell_type": "code",
   "execution_count": 10,
   "id": "c5598f66",
   "metadata": {},
   "outputs": [
    {
     "data": {
      "text/plain": [
       "array([1, 0])"
      ]
     },
     "execution_count": 10,
     "metadata": {},
     "output_type": "execute_result"
    }
   ],
   "source": [
    "df.Gender.unique() # Male = 1 , Female = 0"
   ]
  },
  {
   "cell_type": "code",
   "execution_count": 11,
   "id": "f416ecc4",
   "metadata": {},
   "outputs": [],
   "source": [
    "x = df.drop('Weight',axis=1)\n",
    "y = df.Weight"
   ]
  },
  {
   "cell_type": "code",
   "execution_count": 12,
   "id": "839e7964",
   "metadata": {},
   "outputs": [
    {
     "data": {
      "text/plain": [
       "(8555, 2)"
      ]
     },
     "execution_count": 12,
     "metadata": {},
     "output_type": "execute_result"
    }
   ],
   "source": [
    "x.shape"
   ]
  },
  {
   "cell_type": "code",
   "execution_count": 13,
   "id": "6bb6aa67",
   "metadata": {},
   "outputs": [
    {
     "data": {
      "text/plain": [
       "(8555,)"
      ]
     },
     "execution_count": 13,
     "metadata": {},
     "output_type": "execute_result"
    }
   ],
   "source": [
    "y.shape"
   ]
  },
  {
   "cell_type": "markdown",
   "id": "f564ff90",
   "metadata": {},
   "source": [
    "# Train test Split for this data "
   ]
  },
  {
   "cell_type": "code",
   "execution_count": 14,
   "id": "84fd3339",
   "metadata": {},
   "outputs": [],
   "source": [
    "from sklearn.model_selection import train_test_split"
   ]
  },
  {
   "cell_type": "code",
   "execution_count": 15,
   "id": "be7fc4c3",
   "metadata": {},
   "outputs": [],
   "source": [
    "x_train,x_test,y_train,y_test = train_test_split(x,y,test_size=.3,random_state=51)"
   ]
  },
  {
   "cell_type": "markdown",
   "id": "ac2eff53",
   "metadata": {},
   "source": [
    "# Model fitting with LinearRegression"
   ]
  },
  {
   "cell_type": "code",
   "execution_count": 16,
   "id": "e8c2e96a",
   "metadata": {},
   "outputs": [],
   "source": [
    "from sklearn.linear_model import LinearRegression"
   ]
  },
  {
   "cell_type": "code",
   "execution_count": 17,
   "id": "affa392a",
   "metadata": {},
   "outputs": [],
   "source": [
    "lr = LinearRegression()"
   ]
  },
  {
   "cell_type": "code",
   "execution_count": 18,
   "id": "f54776f2",
   "metadata": {
    "scrolled": true
   },
   "outputs": [
    {
     "data": {
      "text/plain": [
       "LinearRegression()"
      ]
     },
     "execution_count": 18,
     "metadata": {},
     "output_type": "execute_result"
    }
   ],
   "source": [
    "lr.fit(x_train,y_train)"
   ]
  },
  {
   "cell_type": "code",
   "execution_count": 19,
   "id": "7722a6bb",
   "metadata": {},
   "outputs": [],
   "source": [
    "pred = lr.predict(x_test)"
   ]
  },
  {
   "cell_type": "code",
   "execution_count": 20,
   "id": "f8cd5227",
   "metadata": {},
   "outputs": [],
   "source": [
    "# Evaluate Model (Accuracy, MSE, MAE)\n",
    "from sklearn.metrics import mean_absolute_error,mean_squared_error\n",
    "accuracy = lr.score(x_test,y_test) # Accuracy\n",
    "mse = mean_squared_error(y_test,pred)\n",
    "mae = mean_absolute_error(y_test,pred)"
   ]
  },
  {
   "cell_type": "code",
   "execution_count": 21,
   "id": "266c0b77",
   "metadata": {},
   "outputs": [
    {
     "name": "stdout",
     "output_type": "stream",
     "text": [
      "Accuracy Value is :  0.8944599600824594\n",
      "Mean Absolute Error is :  8.119090042562583\n",
      "Mean Squared Error is :  106.4179733000685\n"
     ]
    }
   ],
   "source": [
    "print(\"Accuracy Value is : \", accuracy)\n",
    "print(\"Mean Absolute Error is : \", mae)\n",
    "print(\"Mean Squared Error is : \", mse)"
   ]
  },
  {
   "cell_type": "markdown",
   "id": "89c9a09b",
   "metadata": {},
   "source": [
    "# KNN Regressor"
   ]
  },
  {
   "cell_type": "code",
   "execution_count": 22,
   "id": "672760ef",
   "metadata": {},
   "outputs": [],
   "source": [
    "from sklearn.neighbors import KNeighborsRegressor"
   ]
  },
  {
   "cell_type": "code",
   "execution_count": 23,
   "id": "85145a32",
   "metadata": {},
   "outputs": [],
   "source": [
    "reg = KNeighborsRegressor()"
   ]
  },
  {
   "cell_type": "code",
   "execution_count": 24,
   "id": "6b9eb94e",
   "metadata": {},
   "outputs": [
    {
     "data": {
      "text/plain": [
       "KNeighborsRegressor()"
      ]
     },
     "execution_count": 24,
     "metadata": {},
     "output_type": "execute_result"
    }
   ],
   "source": [
    "reg.fit(x_train,y_train)"
   ]
  },
  {
   "cell_type": "code",
   "execution_count": 25,
   "id": "fbfc51f2",
   "metadata": {},
   "outputs": [],
   "source": [
    "# Evaluate Model (Accuracy, MSE, Prediction)\n",
    "Accuracy = reg.score(x_test,y_test) # Before Turning Accuracy is 0.8733063390964783\n",
    "mse = mean_squared_error(y_test,reg.predict(x_test)) # mean squared error 127.74756039369427\n",
    "Prediction = reg.predict(x_test) # Prediction "
   ]
  },
  {
   "cell_type": "code",
   "execution_count": 26,
   "id": "eaf60762",
   "metadata": {},
   "outputs": [
    {
     "data": {
      "text/plain": [
       "0.8733063390964783"
      ]
     },
     "execution_count": 26,
     "metadata": {},
     "output_type": "execute_result"
    }
   ],
   "source": [
    "reg.score(x_test,y_test)"
   ]
  },
  {
   "cell_type": "markdown",
   "id": "374b2ae5",
   "metadata": {},
   "source": [
    "# Hyperparameter Optimization for K value using RandomizedSearchCV"
   ]
  },
  {
   "cell_type": "code",
   "execution_count": 27,
   "id": "43a9eb20",
   "metadata": {},
   "outputs": [],
   "source": [
    "from sklearn.model_selection import RandomizedSearchCV"
   ]
  },
  {
   "cell_type": "code",
   "execution_count": 28,
   "id": "f3f99f7c",
   "metadata": {},
   "outputs": [],
   "source": [
    "k = np.random.randint(1,50,60)\n",
    "\n",
    "# Define a list of parameters for the models\n",
    "params = {\n",
    "    'n_neighbors' : k\n",
    "}\n",
    "\n",
    "# we can build Grid Scearch CV using the above parameters.\n",
    "# cv = 5 means cross validation with 5 filds\n",
    "random_search = RandomizedSearchCV(reg,params,n_iter=5,cv=5,n_jobs=-1,verbose=0)"
   ]
  },
  {
   "cell_type": "code",
   "execution_count": 29,
   "id": "5fab8c2e",
   "metadata": {},
   "outputs": [
    {
     "data": {
      "text/plain": [
       "RandomizedSearchCV(cv=5, estimator=KNeighborsRegressor(), n_iter=5, n_jobs=-1,\n",
       "                   param_distributions={'n_neighbors': array([31,  5,  3, 25, 13, 18,  7, 26, 45, 10, 34, 26, 20, 14,  4, 27, 36,\n",
       "       48, 17,  6, 13,  6,  2, 29, 45, 49, 46,  1, 22, 15,  2,  4, 24, 18,\n",
       "        9, 49,  3,  3, 34, 45,  3, 11, 19, 27, 44, 14, 40, 29, 42, 34, 31,\n",
       "       39, 39, 12, 34, 30, 34, 47, 49, 43])})"
      ]
     },
     "execution_count": 29,
     "metadata": {},
     "output_type": "execute_result"
    }
   ],
   "source": [
    "random_search.fit(x_train,y_train)"
   ]
  },
  {
   "cell_type": "code",
   "execution_count": 30,
   "id": "993c34b6",
   "metadata": {},
   "outputs": [
    {
     "data": {
      "text/plain": [
       "0.8983964336426652"
      ]
     },
     "execution_count": 30,
     "metadata": {},
     "output_type": "execute_result"
    }
   ],
   "source": [
    "random_search.best_score_ "
   ]
  },
  {
   "cell_type": "code",
   "execution_count": 31,
   "id": "b86d248d",
   "metadata": {},
   "outputs": [
    {
     "data": {
      "text/plain": [
       "{'n_neighbors': 39}"
      ]
     },
     "execution_count": 31,
     "metadata": {},
     "output_type": "execute_result"
    }
   ],
   "source": [
    "random_search.best_params_ # Best K Values is : 43"
   ]
  },
  {
   "cell_type": "code",
   "execution_count": 32,
   "id": "0be5ce26",
   "metadata": {
    "scrolled": true
   },
   "outputs": [
    {
     "data": {
      "text/plain": [
       "0.891354976891699"
      ]
     },
     "execution_count": 32,
     "metadata": {},
     "output_type": "execute_result"
    }
   ],
   "source": [
    "random_search.score(x_test,y_test)"
   ]
  },
  {
   "cell_type": "code",
   "execution_count": 33,
   "id": "db3d9e00",
   "metadata": {},
   "outputs": [
    {
     "data": {
      "text/plain": [
       "array([157.69496634, 148.47799041, 195.78122823, ..., 163.20054852,\n",
       "       191.46093675, 152.27054418])"
      ]
     },
     "execution_count": 33,
     "metadata": {},
     "output_type": "execute_result"
    }
   ],
   "source": [
    "pred = random_search.predict(x_test)\n",
    "pred"
   ]
  },
  {
   "cell_type": "code",
   "execution_count": 34,
   "id": "f9a7a8c2",
   "metadata": {},
   "outputs": [],
   "source": [
    "# Before Turning Accuracy is : ( 0.8733063390964783 )\n",
    "# After Turning Accuracy is : ( 0.8916018810811057 ) \n",
    "# After Turning Best K Values is : 43 "
   ]
  },
  {
   "cell_type": "code",
   "execution_count": 35,
   "id": "15dbff75",
   "metadata": {},
   "outputs": [
    {
     "name": "stdout",
     "output_type": "stream",
     "text": [
      "Accuracy :  0.891354976891699\n",
      "Mean Squared Error :  109.54878525115055\n"
     ]
    }
   ],
   "source": [
    "# Evaluate Model (Accuracy, MSE, Prediction)\n",
    "Accuracy = random_search.score(x_test,y_test)\n",
    "Prediction = random_search.predict(x_test)\n",
    "mse = mean_squared_error(y_test,Prediction)\n",
    "\n",
    "print(\"Accuracy : \", Accuracy)\n",
    "print(\"Mean Squared Error : \", mse)"
   ]
  },
  {
   "cell_type": "code",
   "execution_count": 36,
   "id": "0dde6eed",
   "metadata": {},
   "outputs": [],
   "source": [
    "# Accuracy :  0.8916018810811057\n",
    "# Mean Squared Error :  109.29982719261194"
   ]
  },
  {
   "cell_type": "markdown",
   "id": "03ab857f",
   "metadata": {},
   "source": [
    "# Step 2 "
   ]
  },
  {
   "cell_type": "code",
   "execution_count": 37,
   "id": "1f4016c8",
   "metadata": {},
   "outputs": [],
   "source": [
    "df2 = pd.read_csv(r\"D:\\Programming\\ML_DATA\\\\weight-height.csv\")"
   ]
  },
  {
   "cell_type": "code",
   "execution_count": 38,
   "id": "8bfd1da4",
   "metadata": {},
   "outputs": [
    {
     "data": {
      "text/html": [
       "<div>\n",
       "<style scoped>\n",
       "    .dataframe tbody tr th:only-of-type {\n",
       "        vertical-align: middle;\n",
       "    }\n",
       "\n",
       "    .dataframe tbody tr th {\n",
       "        vertical-align: top;\n",
       "    }\n",
       "\n",
       "    .dataframe thead th {\n",
       "        text-align: right;\n",
       "    }\n",
       "</style>\n",
       "<table border=\"1\" class=\"dataframe\">\n",
       "  <thead>\n",
       "    <tr style=\"text-align: right;\">\n",
       "      <th></th>\n",
       "      <th>Gender</th>\n",
       "      <th>Height</th>\n",
       "      <th>Weight</th>\n",
       "    </tr>\n",
       "  </thead>\n",
       "  <tbody>\n",
       "    <tr>\n",
       "      <th>0</th>\n",
       "      <td>Male</td>\n",
       "      <td>73.847017</td>\n",
       "      <td>241.893563</td>\n",
       "    </tr>\n",
       "    <tr>\n",
       "      <th>1</th>\n",
       "      <td>Male</td>\n",
       "      <td>68.781904</td>\n",
       "      <td>162.310473</td>\n",
       "    </tr>\n",
       "    <tr>\n",
       "      <th>2</th>\n",
       "      <td>Male</td>\n",
       "      <td>74.110105</td>\n",
       "      <td>212.740856</td>\n",
       "    </tr>\n",
       "    <tr>\n",
       "      <th>3</th>\n",
       "      <td>Male</td>\n",
       "      <td>71.730978</td>\n",
       "      <td>220.042470</td>\n",
       "    </tr>\n",
       "    <tr>\n",
       "      <th>4</th>\n",
       "      <td>Male</td>\n",
       "      <td>69.881796</td>\n",
       "      <td>206.349801</td>\n",
       "    </tr>\n",
       "  </tbody>\n",
       "</table>\n",
       "</div>"
      ],
      "text/plain": [
       "  Gender     Height      Weight\n",
       "0   Male  73.847017  241.893563\n",
       "1   Male  68.781904  162.310473\n",
       "2   Male  74.110105  212.740856\n",
       "3   Male  71.730978  220.042470\n",
       "4   Male  69.881796  206.349801"
      ]
     },
     "execution_count": 38,
     "metadata": {},
     "output_type": "execute_result"
    }
   ],
   "source": [
    "df2.head()"
   ]
  },
  {
   "cell_type": "code",
   "execution_count": 39,
   "id": "f7ac1192",
   "metadata": {},
   "outputs": [],
   "source": [
    "x = df.drop('Gender',axis=1)\n",
    "y = df.Gender"
   ]
  },
  {
   "cell_type": "code",
   "execution_count": null,
   "id": "dccaa153",
   "metadata": {},
   "outputs": [],
   "source": []
  },
  {
   "cell_type": "markdown",
   "id": "7569c537",
   "metadata": {},
   "source": [
    "# Train test Split"
   ]
  },
  {
   "cell_type": "code",
   "execution_count": 40,
   "id": "2819351f",
   "metadata": {},
   "outputs": [],
   "source": [
    "xtrain,xtest,ytrain,ytest = train_test_split(x,y,train_size=.70,random_state=42)"
   ]
  },
  {
   "cell_type": "code",
   "execution_count": 41,
   "id": "6b54c8ac",
   "metadata": {},
   "outputs": [
    {
     "data": {
      "text/html": [
       "<div>\n",
       "<style scoped>\n",
       "    .dataframe tbody tr th:only-of-type {\n",
       "        vertical-align: middle;\n",
       "    }\n",
       "\n",
       "    .dataframe tbody tr th {\n",
       "        vertical-align: top;\n",
       "    }\n",
       "\n",
       "    .dataframe thead th {\n",
       "        text-align: right;\n",
       "    }\n",
       "</style>\n",
       "<table border=\"1\" class=\"dataframe\">\n",
       "  <thead>\n",
       "    <tr style=\"text-align: right;\">\n",
       "      <th></th>\n",
       "      <th>Height</th>\n",
       "      <th>Weight</th>\n",
       "    </tr>\n",
       "  </thead>\n",
       "  <tbody>\n",
       "    <tr>\n",
       "      <th>553</th>\n",
       "      <td>67.594031</td>\n",
       "      <td>186.751417</td>\n",
       "    </tr>\n",
       "    <tr>\n",
       "      <th>1397</th>\n",
       "      <td>71.601697</td>\n",
       "      <td>211.031652</td>\n",
       "    </tr>\n",
       "    <tr>\n",
       "      <th>7934</th>\n",
       "      <td>62.625985</td>\n",
       "      <td>143.768451</td>\n",
       "    </tr>\n",
       "    <tr>\n",
       "      <th>8367</th>\n",
       "      <td>66.136131</td>\n",
       "      <td>151.814648</td>\n",
       "    </tr>\n",
       "    <tr>\n",
       "      <th>3320</th>\n",
       "      <td>71.843308</td>\n",
       "      <td>196.505814</td>\n",
       "    </tr>\n",
       "    <tr>\n",
       "      <th>...</th>\n",
       "      <td>...</td>\n",
       "      <td>...</td>\n",
       "    </tr>\n",
       "    <tr>\n",
       "      <th>5734</th>\n",
       "      <td>63.349988</td>\n",
       "      <td>139.223151</td>\n",
       "    </tr>\n",
       "    <tr>\n",
       "      <th>5191</th>\n",
       "      <td>58.861625</td>\n",
       "      <td>90.728561</td>\n",
       "    </tr>\n",
       "    <tr>\n",
       "      <th>5390</th>\n",
       "      <td>64.325406</td>\n",
       "      <td>156.800504</td>\n",
       "    </tr>\n",
       "    <tr>\n",
       "      <th>860</th>\n",
       "      <td>69.074492</td>\n",
       "      <td>179.386817</td>\n",
       "    </tr>\n",
       "    <tr>\n",
       "      <th>7270</th>\n",
       "      <td>67.588840</td>\n",
       "      <td>150.380597</td>\n",
       "    </tr>\n",
       "  </tbody>\n",
       "</table>\n",
       "<p>5988 rows × 2 columns</p>\n",
       "</div>"
      ],
      "text/plain": [
       "         Height      Weight\n",
       "553   67.594031  186.751417\n",
       "1397  71.601697  211.031652\n",
       "7934  62.625985  143.768451\n",
       "8367  66.136131  151.814648\n",
       "3320  71.843308  196.505814\n",
       "...         ...         ...\n",
       "5734  63.349988  139.223151\n",
       "5191  58.861625   90.728561\n",
       "5390  64.325406  156.800504\n",
       "860   69.074492  179.386817\n",
       "7270  67.588840  150.380597\n",
       "\n",
       "[5988 rows x 2 columns]"
      ]
     },
     "execution_count": 41,
     "metadata": {},
     "output_type": "execute_result"
    }
   ],
   "source": [
    "xtrain"
   ]
  },
  {
   "cell_type": "markdown",
   "id": "542f1b39",
   "metadata": {},
   "source": [
    "# KNN Classifier"
   ]
  },
  {
   "cell_type": "code",
   "execution_count": 42,
   "id": "37187376",
   "metadata": {},
   "outputs": [],
   "source": [
    "from sklearn.neighbors import KNeighborsClassifier"
   ]
  },
  {
   "cell_type": "code",
   "execution_count": 45,
   "id": "49d3bcd6",
   "metadata": {},
   "outputs": [],
   "source": [
    "clf = KNeighborsClassifier(n_neighbors=43)"
   ]
  },
  {
   "cell_type": "code",
   "execution_count": 46,
   "id": "f7ca23b9",
   "metadata": {},
   "outputs": [
    {
     "data": {
      "text/plain": [
       "KNeighborsClassifier(n_neighbors=43)"
      ]
     },
     "execution_count": 46,
     "metadata": {},
     "output_type": "execute_result"
    }
   ],
   "source": [
    "clf.fit(xtrain,ytrain)"
   ]
  },
  {
   "cell_type": "code",
   "execution_count": 47,
   "id": "dc7fa9aa",
   "metadata": {},
   "outputs": [
    {
     "data": {
      "text/plain": [
       "0.9197506817296455"
      ]
     },
     "execution_count": 47,
     "metadata": {},
     "output_type": "execute_result"
    }
   ],
   "source": [
    "clf.score(xtest,ytest)"
   ]
  },
  {
   "cell_type": "markdown",
   "id": "143110b1",
   "metadata": {},
   "source": [
    "# Evaluate Model"
   ]
  },
  {
   "cell_type": "code",
   "execution_count": 49,
   "id": "f34da705",
   "metadata": {},
   "outputs": [],
   "source": [
    "# Evaluate Model (Accuracy, Confusion Matrix, ROC, AUC, Classification Report)\n",
    "\n",
    "from sklearn.metrics import confusion_matrix, classification_report, roc_curve, plot_roc_curve , accuracy_score"
   ]
  },
  {
   "cell_type": "code",
   "execution_count": 51,
   "id": "91633eaf",
   "metadata": {},
   "outputs": [],
   "source": [
    "accuracy = accuracy_score(ytest,clf.predict(xtest)) #\n",
    "clf_report = classification_report(ytest,clf.predict(xtest))\n",
    "con_mat = confusion_matrix(ytest,clf.predict(xtest))"
   ]
  },
  {
   "cell_type": "code",
   "execution_count": 53,
   "id": "4e231216",
   "metadata": {},
   "outputs": [
    {
     "name": "stdout",
     "output_type": "stream",
     "text": [
      "              precision    recall  f1-score   support\n",
      "\n",
      "           0       0.91      0.89      0.90      1066\n",
      "           1       0.93      0.94      0.93      1501\n",
      "\n",
      "    accuracy                           0.92      2567\n",
      "   macro avg       0.92      0.92      0.92      2567\n",
      "weighted avg       0.92      0.92      0.92      2567\n",
      "\n"
     ]
    }
   ],
   "source": [
    "# Classification Report \n",
    "print(clf_report)"
   ]
  },
  {
   "cell_type": "code",
   "execution_count": 54,
   "id": "9ea5c727",
   "metadata": {},
   "outputs": [
    {
     "name": "stdout",
     "output_type": "stream",
     "text": [
      "Accuracy is :  0.9197506817296455\n"
     ]
    }
   ],
   "source": [
    "# accuracy \n",
    "print(\"Accuracy is : \", accuracy)"
   ]
  },
  {
   "cell_type": "code",
   "execution_count": 55,
   "id": "8ad0208c",
   "metadata": {},
   "outputs": [
    {
     "name": "stdout",
     "output_type": "stream",
     "text": [
      "[[ 953  113]\n",
      " [  93 1408]]\n"
     ]
    }
   ],
   "source": [
    "# confusion_matrix\n",
    "print(con_mat)"
   ]
  },
  {
   "cell_type": "code",
   "execution_count": 56,
   "id": "49add45b",
   "metadata": {},
   "outputs": [
    {
     "data": {
      "text/plain": [
       "Text(51.0, 0.5, 'Actual Values')"
      ]
     },
     "execution_count": 56,
     "metadata": {},
     "output_type": "execute_result"
    },
    {
     "data": {
      "image/png": "[encoded data removed]",
      "text/plain": [
       "<Figure size 576x360 with 2 Axes>"
      ]
     },
     "metadata": {
      "needs_background": "light"
     },
     "output_type": "display_data"
    }
   ],
   "source": [
    "plt.figure(figsize=(8,5))\n",
    "sns.heatmap(con_mat, annot=True)\n",
    "plt.xlabel('Predicted Values',)\n",
    "plt.ylabel('Actual Values')"
   ]
  },
  {
   "cell_type": "markdown",
   "id": "50f3821f",
   "metadata": {},
   "source": [
    "# roc_curve"
   ]
  },
  {
   "cell_type": "code",
   "execution_count": 58,
   "id": "cc3a37e0",
   "metadata": {},
   "outputs": [
    {
     "data": {
      "text/plain": [
       "<Figure size 864x576 with 0 Axes>"
      ]
     },
     "metadata": {},
     "output_type": "display_data"
    },
    {
     "data": {
      "image/png": "[encoded data removed]",
      "text/plain": [
       "<Figure size 432x288 with 1 Axes>"
      ]
     },
     "metadata": {
      "needs_background": "light"
     },
     "output_type": "display_data"
    }
   ],
   "source": [
    "plt.figure(figsize=(12,8))\n",
    "plot_roc_curve(clf,xtest,ytest)\n",
    "plt.plot([0,1],[0,1])\n",
    "plt.title(\"This ROC Curve for Testing Data\")\n",
    "plt.show()\n",
    "\n",
    "# 0.7 to 0.8 is considered acceptable, 0.8 to 0.9 is considered excellent, and more than 0.1 is consideredoutstanding"
   ]
  },
  {
   "cell_type": "code",
   "execution_count": 60,
   "id": "f65a2158",
   "metadata": {},
   "outputs": [
    {
     "name": "stdout",
     "output_type": "stream",
     "text": [
      "              precision    recall  f1-score   support\n",
      "\n",
      "           0       0.91      0.89      0.90      1066\n",
      "           1       0.93      0.94      0.93      1501\n",
      "\n",
      "    accuracy                           0.92      2567\n",
      "   macro avg       0.92      0.92      0.92      2567\n",
      "weighted avg       0.92      0.92      0.92      2567\n",
      "\n",
      "Accuracy is :  0.9197506817296455\n",
      "Confusion Matrix  [[ 953  113]\n",
      " [  93 1408]]\n"
     ]
    }
   ],
   "source": [
    "# Classification Report \n",
    "print(clf_report)\n",
    "# accuracy \n",
    "print(\"Accuracy is : \", accuracy)\n",
    "# confusion_matrix\n",
    "print(\"Confusion Matrix \",con_mat)"
   ]
  },
  {
   "cell_type": "code",
   "execution_count": null,
   "id": "83e1cef4",
   "metadata": {},
   "outputs": [],
   "source": []
  }
 ],
 "metadata": {
  "kernelspec": {
   "display_name": "Python 3 (ipykernel)",
   "language": "python",
   "name": "python3"
  },
  "language_info": {
   "codemirror_mode": {
    "name": "ipython",
    "version": 3
   },
   "file_extension": ".py",
   "mimetype": "text/x-python",
   "name": "python",
   "nbconvert_exporter": "python",
   "pygments_lexer": "ipython3",
   "version": "3.9.7"
  }
 },
 "nbformat": 4,
 "nbformat_minor": 5
}
